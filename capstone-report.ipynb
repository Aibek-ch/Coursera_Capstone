{
    "nbformat_minor": 1, 
    "cells": [
        {
            "source": "# Identifying the best location for a food supply warehouse to service local restaurants.", 
            "cell_type": "markdown", 
            "metadata": {
                "collapsed": true
            }
        }, 
        {
            "source": "Aibek Chokotaev\nMarch 26, 2019", 
            "cell_type": "markdown", 
            "metadata": {}
        }, 
        {
            "source": "## 1. Introduction.", 
            "cell_type": "markdown", 
            "metadata": {}
        }, 
        {
            "source": "### 1.1. Problem.", 
            "cell_type": "markdown", 
            "metadata": {}
        }, 
        {
            "source": "When moving from one city to another the transition and acclimatization might be quite a challenge for a person. Living in one location for several years one can get used to the convenience of the are in terms of presence of gyms, attractions, restaurants, parks, shops, etc. Thus, when looking for a new place to live in a new city one will try to find a place like his previous one. Therefore, it would be convenient to have a handy table which would compare neighborhoods in two cities and show neighborhood pairs which are alike in these two cities. In my analysis, I decided to compare New York and Toronto.", 
            "cell_type": "markdown", 
            "metadata": {}
        }, 
        {
            "source": "### 1.2. Interest", 
            "cell_type": "markdown", 
            "metadata": {}
        }, 
        {
            "source": "I am sure that people who are planning to move from New York to Toronto or vise-versa would be interested in this type of information as it would allow them to avoid the anxiety of researching the neighborhoods and worrying about whether it will be similar to the one that a person has already got used to.", 
            "cell_type": "markdown", 
            "metadata": {}
        }, 
        {
            "source": "## 2. Data description.", 
            "cell_type": "markdown", 
            "metadata": {}
        }, 
        {
            "source": "### 2.1. Data sources.", 
            "cell_type": "markdown", 
            "metadata": {}
        }, 
        {
            "source": "For my analysis, I have used multiple sources to obtain the data. Particularly for New York City, I used data from here (http://hdl.handle.net/2451/34572), and for Toronto, I have used data from Wikipedia page (https://en.wikipedia.org/wiki/List_of_postal_codes_of_Canada:_M) (for neighborhoods and postal codes) and from here (http://cocl.us/Geospatial_data) (for geolocation). For venues around the neighborhoods, I scraped foursquare.com and combined it to two data frames for both cities.", 
            "cell_type": "markdown", 
            "metadata": {}
        }, 
        {
            "source": "### 2.2. Data cleaning.", 
            "cell_type": "markdown", 
            "metadata": {}
        }, 
        {
            "source": "During the data collection process, I cleaned and transformed some of the data to make it suitable for my analysis. Mostly it is true for Toronto data on the Wikipedia page there were some postal codes without borough names and neighborhood names. Since there were few such cases, I decided to remove them from the analysis as the remaining data covered around 99% of the remaining Toronto territory. As for the cases with missing neighborhood names but with borough names I decided to put it the same as the borough name.\n\nFurther, I extracted the data regarding venues around the given neighborhood and populated new pandas data frame with the required information that I obtained. As I could not use text data for my analysis, I created dummy variables for each of the venue categories I observed in foursquare. After creating a dummy variable for each of the venue categories, I grouped it by postal codes and neighborhoods and took the averages of each type of venues to sort it based on the proportion of the particular type of venues in that neighborhood to identify the most common type of venues in each neighborhood. Once I did the same for both cities I had the prepared database for further analysis.\n", 
            "cell_type": "markdown", 
            "metadata": {}
        }, 
        {
            "execution_count": null, 
            "cell_type": "code", 
            "metadata": {}, 
            "outputs": [], 
            "source": ""
        }
    ], 
    "metadata": {
        "kernelspec": {
            "display_name": "Python 3.5", 
            "name": "python3", 
            "language": "python"
        }, 
        "language_info": {
            "mimetype": "text/x-python", 
            "nbconvert_exporter": "python", 
            "version": "3.5.5", 
            "name": "python", 
            "file_extension": ".py", 
            "pygments_lexer": "ipython3", 
            "codemirror_mode": {
                "version": 3, 
                "name": "ipython"
            }
        }
    }, 
    "nbformat": 4
}